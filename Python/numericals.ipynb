{
 "cells": [
  {
   "cell_type": "code",
   "execution_count": 2,
   "metadata": {},
   "outputs": [
    {
     "name": "stdout",
     "output_type": "stream",
     "text": [
      "1,2,3,"
     ]
    }
   ],
   "source": [
    "x = [1,2,3]\n",
    "for i in x:\n",
    "    print(i, end=',')\n",
    "    "
   ]
  },
  {
   "cell_type": "code",
   "execution_count": 3,
   "metadata": {},
   "outputs": [
    {
     "name": "stdout",
     "output_type": "stream",
     "text": [
      "[[1 5 3]\n",
      " [4 5 6]]\n",
      "(2, 3)\n",
      "2\n",
      "6\n",
      "int32\n"
     ]
    }
   ],
   "source": [
    "import numpy as np\n",
    "\n",
    "a = np.array([[1,2,3],[4,5,6]])\n",
    "a[0,1] = 5\n",
    "print(a)\n",
    "print(a.shape) #rows, columns\n",
    "print(a.ndim) #dimensions \n",
    "print(a.size)\n",
    "print(a.dtype)"
   ]
  },
  {
   "cell_type": "code",
   "execution_count": 54,
   "metadata": {},
   "outputs": [
    {
     "name": "stdout",
     "output_type": "stream",
     "text": [
      "[[8 1 5]\n",
      " [9 8 7]\n",
      " [1 4 5]\n",
      " [7 9 6]\n",
      " [2 9 9]\n",
      " [7 1 2]\n",
      " [5 3 6]\n",
      " [2 2 8]\n",
      " [7 9 6]\n",
      " [8 5 8]]\n"
     ]
    }
   ],
   "source": [
    "m = np.random.randint(1,10,(10,3))\n",
    "print(m)"
   ]
  },
  {
   "cell_type": "code",
   "execution_count": null,
   "metadata": {},
   "outputs": [
    {
     "name": "stdout",
     "output_type": "stream",
     "text": [
      "Sum of 2nd row: 24\n",
      "Mean of 2nd row: 8.0\n"
     ]
    }
   ],
   "source": [
    "row2_sum = np.sum(m[1,:])\n",
    "row2_mean = np.mean(m[1,:])\n",
    "\n",
    "print(f\"Sum of 2nd row: {row2_sum}\")\n",
    "print(f\"Mean of 2nd row: {row2_mean}\")"
   ]
  },
  {
   "cell_type": "code",
   "execution_count": 59,
   "metadata": {},
   "outputs": [
    {
     "name": "stdout",
     "output_type": "stream",
     "text": [
      "Sum of rows: [14 24 10 22 20 10 14 12 22 21]\n",
      "Mean of rows: [4.66666667 8.         3.33333333 7.33333333 6.66666667 3.33333333\n",
      " 4.66666667 4.         7.33333333 7.        ]\n"
     ]
    }
   ],
   "source": [
    "row_sums = np.sum(m, axis=1)\n",
    "row_means = np.mean(m, axis=1)\n",
    "\n",
    "print(f\"Sum of rows: {row_sums}\")\n",
    "print(f\"Mean of rows: {row_means}\")"
   ]
  },
  {
   "cell_type": "code",
   "execution_count": 63,
   "metadata": {},
   "outputs": [
    {
     "name": "stdout",
     "output_type": "stream",
     "text": [
      "Mean of 2nd column: 6.2\n"
     ]
    }
   ],
   "source": [
    "column2_sum = np.sum(m[:,2])\n",
    "column2_mean = column2_sum / m.shape[0]\n",
    "\n",
    "print(f\"Mean of 2nd column: {column2_mean}\")"
   ]
  },
  {
   "cell_type": "code",
   "execution_count": 66,
   "metadata": {},
   "outputs": [
    {
     "name": "stdout",
     "output_type": "stream",
     "text": [
      "Square roots of the elements in the vector: [5.0, 4.0, 3.0, 2.0, 1.0]\n"
     ]
    }
   ],
   "source": [
    "v = [25, 16, 9, 4, 1]\n",
    "sqr_roots = []\n",
    "for i in v:\n",
    "    sqr_roots.append(np.sqrt(i))\n",
    "\n",
    "print(\"Square roots of the elements in the vector:\", sqr_roots)"
   ]
  },
  {
   "cell_type": "code",
   "execution_count": 69,
   "metadata": {},
   "outputs": [
    {
     "name": "stdout",
     "output_type": "stream",
     "text": [
      "[25 16  9  4  1]\n",
      "[100  81  64  49  36  25  16   9   4   1]\n",
      "[144 121 100  81  64  49  36  25  16   9   4   1]\n"
     ]
    }
   ],
   "source": [
    "def generate_vector(n):\n",
    "    vector = np.array([i**2 for i in range(n,0,-1)])\n",
    "    return vector\n",
    "\n",
    "print(generate_vector(5))\n",
    "print(generate_vector(10))\n",
    "print(generate_vector(12))"
   ]
  },
  {
   "cell_type": "code",
   "execution_count": 76,
   "metadata": {},
   "outputs": [
    {
     "name": "stdout",
     "output_type": "stream",
     "text": [
      "[[ 1  0  0  2  2]\n",
      " [ 0  1  0  2  2]\n",
      " [ 0  0  1  2  2]\n",
      " [25 16  9  4  1]]\n"
     ]
    }
   ],
   "source": [
    "m1 = np.zeros((4,5), dtype=int)\n",
    "m1[:3,:3] = np.eye(3, dtype=int)\n",
    "m1[:3, 3:] = np.full((3,2),2, dtype=int)\n",
    "m1[3,:] = np.array([i**2 for i in range(5,0,-1)])\n",
    "\n",
    "print(m1)"
   ]
  },
  {
   "cell_type": "code",
   "execution_count": null,
   "metadata": {},
   "outputs": [],
   "source": []
  }
 ],
 "metadata": {
  "kernelspec": {
   "display_name": "Python 3",
   "language": "python",
   "name": "python3"
  },
  "language_info": {
   "codemirror_mode": {
    "name": "ipython",
    "version": 3
   },
   "file_extension": ".py",
   "mimetype": "text/x-python",
   "name": "python",
   "nbconvert_exporter": "python",
   "pygments_lexer": "ipython3",
   "version": "3.11.9"
  }
 },
 "nbformat": 4,
 "nbformat_minor": 2
}
